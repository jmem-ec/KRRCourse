{
  "nbformat": 4,
  "nbformat_minor": 0,
  "metadata": {
    "colab": {
      "provenance": [],
      "authorship_tag": "ABX9TyORb+MKeRxQxW2xVV2G+SfK",
      "include_colab_link": true
    },
    "kernelspec": {
      "name": "python3",
      "display_name": "Python 3"
    },
    "language_info": {
      "name": "python"
    }
  },
  "cells": [
    {
      "cell_type": "markdown",
      "metadata": {
        "id": "view-in-github",
        "colab_type": "text"
      },
      "source": [
        "<a href=\"https://colab.research.google.com/github/jmem-ec/KRRCourse/blob/main/Practica-6/Practica_6.ipynb\" target=\"_parent\"><img src=\"https://colab.research.google.com/assets/colab-badge.svg\" alt=\"Open In Colab\"/></a>"
      ]
    },
    {
      "cell_type": "markdown",
      "source": [
        "# Módulo Representación del Conocimiento - Práctica-6\n",
        "\n",
        "Ejemplo **código Python** para la práctica 6 del módulo Representacion del Conocimiento en la Maestría de Ciencia de Datos"
      ],
      "metadata": {
        "id": "qoZN7VG8Zan2"
      }
    },
    {
      "cell_type": "markdown",
      "source": [
        "## Requerimientos/Librerias"
      ],
      "metadata": {
        "id": "cRi83xXBZqFt"
      }
    },
    {
      "cell_type": "code",
      "source": [
        "!pip install morph_kgc"
      ],
      "metadata": {
        "id": "mmR6TXdKZ1Z1"
      },
      "execution_count": null,
      "outputs": []
    },
    {
      "cell_type": "code",
      "source": [
        "#Only necessary if you are going to run queries on the generated graph\n",
        "!pip install rdflib"
      ],
      "metadata": {
        "id": "A7hs2HoXD-vH"
      },
      "execution_count": null,
      "outputs": []
    },
    {
      "cell_type": "markdown",
      "source": [
        "##Ejecucion del mapeo desde un archivo CSV usando Morph-KGC"
      ],
      "metadata": {
        "id": "RVxWVuuZZ-6F"
      }
    },
    {
      "cell_type": "markdown",
      "source": [
        "Ahora solo se tiene que importar Morph-KGC para ejecutar el mapeo"
      ],
      "metadata": {
        "id": "mDxRVVrp5PV5"
      }
    },
    {
      "cell_type": "code",
      "source": [
        "import morph_kgc"
      ],
      "metadata": {
        "id": "fzBt2meu5OEU"
      },
      "execution_count": 10,
      "outputs": []
    },
    {
      "cell_type": "code",
      "source": [
        "# generate the triples using the confirguration file\n",
        "graph = morph_kgc.materialize('config.ini')"
      ],
      "metadata": {
        "id": "GXNm__EzZ969"
      },
      "execution_count": 14,
      "outputs": []
    },
    {
      "cell_type": "markdown",
      "source": [
        "Con el RDF generado se puede, por ejemplo, cargarlo en RDFLib (o cualquier triplestore) y plantear consultas."
      ],
      "metadata": {
        "id": "qG3ICz8SDo24"
      }
    },
    {
      "cell_type": "code",
      "source": [
        "import rdflib\n",
        "\n",
        "#How many aircraft belong to the airline Southwest Airlines .\n",
        "query = \"\"\"\n",
        "         PREFIX ex: <http://www.ex.org/>\n",
        "         PREFIX ex1: <http://www.ex.org/Airline/>\n",
        "         SELECT (COUNT(?aircraft) AS ?number) WHERE {\n",
        "             ?aircraft ex:hasOwningAirline ex1:Southwest%20Airlines .\n",
        "         }\n",
        "      \"\"\"\n",
        "\n",
        "query_res = graph.query(query)\n",
        "\n",
        "for row in query_res:\n",
        "    print(row['number'])"
      ],
      "metadata": {
        "colab": {
          "base_uri": "https://localhost:8080/"
        },
        "id": "2bS21swfD7tU",
        "outputId": "aa24b80d-2ad4-4251-8fb7-92186eac426f"
      },
      "execution_count": 44,
      "outputs": [
        {
          "output_type": "stream",
          "name": "stdout",
          "text": [
            "285\n"
          ]
        }
      ]
    }
  ]
}
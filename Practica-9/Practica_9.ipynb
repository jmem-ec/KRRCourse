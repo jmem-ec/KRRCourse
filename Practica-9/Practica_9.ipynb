{
  "nbformat": 4,
  "nbformat_minor": 0,
  "metadata": {
    "colab": {
      "provenance": [],
      "include_colab_link": true
    },
    "kernelspec": {
      "name": "python3",
      "display_name": "Python 3"
    },
    "language_info": {
      "name": "python"
    }
  },
  "cells": [
    {
      "cell_type": "markdown",
      "metadata": {
        "id": "view-in-github",
        "colab_type": "text"
      },
      "source": [
        "<a href=\"https://colab.research.google.com/github/jmem-ec/KRRCourse/blob/main/Practica-9/Practica_9.ipynb\" target=\"_parent\"><img src=\"https://colab.research.google.com/assets/colab-badge.svg\" alt=\"Open In Colab\"/></a>"
      ]
    },
    {
      "cell_type": "markdown",
      "source": [
        "# Módulo Representación del Conocimiento - Práctica-9\n",
        "\n",
        "Ejemplo **código Python** para la práctica 9 del módulo Representacion del Conocimiento en la Maestría de Ciencia de Datos"
      ],
      "metadata": {
        "id": "hFWA4E4CKhIj"
      }
    },
    {
      "cell_type": "markdown",
      "source": [
        "## Instalacion de librerias"
      ],
      "metadata": {
        "id": "zDHzziSkKrk1"
      }
    },
    {
      "cell_type": "code",
      "source": [
        "!pip install SPARQLWrapper\n",
        "\n",
        "from SPARQLWrapper import SPARQLWrapper, JSON, XML\n",
        "from pprint import pprint\n",
        "import time\n",
        "import os"
      ],
      "metadata": {
        "id": "O5vzk3r1ZN1l",
        "colab": {
          "base_uri": "https://localhost:8080/"
        },
        "outputId": "88285aba-04d9-4533-e5a3-6e28a5396fd3"
      },
      "execution_count": 2,
      "outputs": [
        {
          "output_type": "stream",
          "name": "stdout",
          "text": [
            "Requirement already satisfied: SPARQLWrapper in /usr/local/lib/python3.10/dist-packages (2.0.0)\n",
            "Requirement already satisfied: rdflib>=6.1.1 in /usr/local/lib/python3.10/dist-packages (from SPARQLWrapper) (7.0.0)\n",
            "Requirement already satisfied: isodate<0.7.0,>=0.6.0 in /usr/local/lib/python3.10/dist-packages (from rdflib>=6.1.1->SPARQLWrapper) (0.6.1)\n",
            "Requirement already satisfied: pyparsing<4,>=2.1.0 in /usr/local/lib/python3.10/dist-packages (from rdflib>=6.1.1->SPARQLWrapper) (3.1.4)\n",
            "Requirement already satisfied: six in /usr/local/lib/python3.10/dist-packages (from isodate<0.7.0,>=0.6.0->rdflib>=6.1.1->SPARQLWrapper) (1.16.0)\n"
          ]
        }
      ]
    },
    {
      "cell_type": "code",
      "source": [
        "def loadingData(endpoint_url, file, format=\"ttl\"):\n",
        "    #Informacion para la conexion extraida de\n",
        "    #https://graphdb.ontotext.com/documentation/free/quick-start-guide.html#load-data-through-sparql-or-rdf4j-api\n",
        "\n",
        "    print(\"Uploading file: \" + file)\n",
        "    if format==\"trig\":\n",
        "        curl_command = \"curl '\" + endpoint_url + \"/statements' -X POST -H \\\"Content-Type:application/x-trig\\\" -T '\" + file + \"'\"\n",
        "    else:\n",
        "        curl_command = \"curl '\" + endpoint_url + \"/statements' -X POST -H \\\"Content-Type:application/x-turtle\\\" -T '\" + file + \"'\"\n",
        "\n",
        "    #Other formats: https://librdf.org/raptor/api/raptor-formats-types-by-parser.html\n",
        "    #print(curl_command)\n",
        "\n",
        "    status = os.system(curl_command)\n",
        "    #print(status)"
      ],
      "metadata": {
        "id": "PtuDs06XMWD2"
      },
      "execution_count": 3,
      "outputs": []
    },
    {
      "cell_type": "code",
      "source": [
        "def queryGraphDBRepo(endpoint_url, query, attempts=3):\n",
        "\n",
        "\n",
        "    try:\n",
        "\n",
        "        sparql_web = SPARQLWrapper(endpoint_url)\n",
        "        # Default is XML:\n",
        "        # https://sparqlwrapper.readthedocs.io/en/latest/SPARQLWrapper.Wrapper.html\n",
        "        sparql_web.setReturnFormat(JSON)\n",
        "\n",
        "        sparql_web.setQuery(query)\n",
        "\n",
        "        results = sparql_web.query().convert()\n",
        "\n",
        "        #Raw results in json format\n",
        "        #print(\"RAW RESULTS IN JSON FORMAT:\")\n",
        "        #pprint(results)\n",
        "\n",
        "        print(\"\\tRetrieved tuples: \" + str(len(results[\"results\"][\"bindings\"])))\n",
        "\n",
        "        #Processed results\n",
        "        #print(\"Processed results in CSV format:\")\n",
        "        for result in results[\"results\"][\"bindings\"]:\n",
        "            row =\"\"\n",
        "            for out_var in results[\"head\"][\"vars\"]:\n",
        "                #print(out_var)\n",
        "                #print(result[out_var]['value'])\n",
        "                row = row + \"\\\"\" + result[out_var]['value'] + \"\\\",\"\n",
        "\n",
        "            print(row)\n",
        "\n",
        "\n",
        "    except Exception as e:\n",
        "        print(e)\n",
        "\n",
        "        print(\"Query '%s' failed. Attempts: %s\" % (query, str(attempts)))\n",
        "        time.sleep(1) #to avoid limit of calls, sleep 1s\n",
        "        attempts-=1\n",
        "        if attempts>0:\n",
        "            return queryGraphDBRepo(endpoint_url, query, attempts)\n",
        "        else:\n",
        "            return None\n"
      ],
      "metadata": {
        "id": "dgJkqH51NJlH"
      },
      "execution_count": 4,
      "outputs": []
    },
    {
      "cell_type": "markdown",
      "source": [
        "###Ejemplo de carga de datos using CURL"
      ],
      "metadata": {
        "id": "BWadxVmkNzyR"
      }
    },
    {
      "cell_type": "code",
      "source": [
        "localhost = \"http://127.0.0.1:7200\"\n",
        "\n",
        "graphdb_endpoint = localhost + \"/repositories/ejemploDB\"\n",
        "format = \"ttl\"\n",
        "\n",
        "##Load ontology\n",
        "path_to_onto_file = \"https://github.com/jmem-ec/KRRCourse/blob/d32490b06421111680c143c78f8ba557476b33ba/Practica-9/AcademicKG.ttl\"\n",
        "loadingData(graphdb_endpoint, path_to_onto_file, format)\n",
        "\n",
        "##Load data\n",
        "path_to_data_file = \"https://github.com/jmem-ec/KRRCourse/blob/d32490b06421111680c143c78f8ba557476b33ba/Practica-9/DataAcademicKG.ttl\"\n",
        "loadingData(graphdb_endpoint, path_to_data_file, format)\n"
      ],
      "metadata": {
        "colab": {
          "base_uri": "https://localhost:8080/"
        },
        "id": "8eCACQSbNyLG",
        "outputId": "358f3529-d071-43ea-9108-db5ab3edd1c1"
      },
      "execution_count": 5,
      "outputs": [
        {
          "output_type": "stream",
          "name": "stdout",
          "text": [
            "Uploading file: https://github.com/jmem-ec/KRRCourse/blob/d32490b06421111680c143c78f8ba557476b33ba/Practica-9/AcademicKG.ttl\n",
            "Uploading file: https://github.com/jmem-ec/KRRCourse/blob/d32490b06421111680c143c78f8ba557476b33ba/Practica-9/DataAcademicKG.ttl\n"
          ]
        }
      ]
    },
    {
      "cell_type": "markdown",
      "source": [
        "##Ejemplo de consulta"
      ],
      "metadata": {
        "id": "Dz39CbyuTbRZ"
      }
    },
    {
      "cell_type": "code",
      "source": [
        "print(\"\\nQuerying GraphDB Endpoint:\")\n",
        "\n",
        "query = \"\"\"\n",
        "PREFIX : <http://example.org/university/ucuenca/>\n",
        "PREFIX rdf: <http://www.w3.org/1999/02/22-rdf-syntax-ns#>\n",
        "\n",
        "SELECT ?profesor ?nombre\n",
        "WHERE {\n",
        "  ?profesor rdf:type :Docente .\n",
        "  ?profesor :nombre ?nombre .\n",
        "\n",
        "  MINUS {\n",
        "    ?profesor :dicta ?curso .\n",
        "  }\n",
        "}\n",
        "\"\"\"\n",
        "\n",
        "queryGraphDBRepo(graphdb_endpoint, query)\n"
      ],
      "metadata": {
        "id": "E9fHOawuTVJP"
      },
      "execution_count": null,
      "outputs": []
    }
  ]
}
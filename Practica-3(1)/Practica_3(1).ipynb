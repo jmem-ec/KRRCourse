{
  "nbformat": 4,
  "nbformat_minor": 0,
  "metadata": {
    "colab": {
      "provenance": [],
      "authorship_tag": "ABX9TyN0q38pYNbCjWHeIiTEUKls",
      "include_colab_link": true
    },
    "kernelspec": {
      "name": "python3",
      "display_name": "Python 3"
    },
    "language_info": {
      "name": "python"
    }
  },
  "cells": [
    {
      "cell_type": "markdown",
      "metadata": {
        "id": "view-in-github",
        "colab_type": "text"
      },
      "source": [
        "<a href=\"https://colab.research.google.com/github/jmem-ec/KRRCourse/blob/main/Practica-3(1)/Practica_3(1).ipynb\" target=\"_parent\"><img src=\"https://colab.research.google.com/assets/colab-badge.svg\" alt=\"Open In Colab\"/></a>"
      ]
    },
    {
      "cell_type": "markdown",
      "source": [
        "# Módulo Representación del Conocimiento - Práctica-3(1)\n",
        "\n",
        "Ejemplo **código Python** para la práctica 3(1) del módulo Representacion del Conocimiento en la Maestría de Ciencia de Datos"
      ],
      "metadata": {
        "id": "qoZN7VG8Zan2"
      }
    },
    {
      "cell_type": "markdown",
      "source": [
        "## Requerimientos/Librerias"
      ],
      "metadata": {
        "id": "cRi83xXBZqFt"
      }
    },
    {
      "cell_type": "code",
      "source": [
        "!pip install rdflib"
      ],
      "metadata": {
        "id": "mmR6TXdKZ1Z1"
      },
      "execution_count": null,
      "outputs": []
    },
    {
      "cell_type": "code",
      "source": [
        "!pip install sparqlwrapper"
      ],
      "metadata": {
        "id": "3WWKo9-gbDKp"
      },
      "execution_count": null,
      "outputs": []
    },
    {
      "cell_type": "code",
      "execution_count": 4,
      "metadata": {
        "id": "nlIwZr1GZT_X"
      },
      "outputs": [],
      "source": [
        "from rdflib import Graph\n",
        "from SPARQLWrapper import SPARQLWrapper, JSON"
      ]
    },
    {
      "cell_type": "markdown",
      "source": [
        "##Consultas del conjunto de datos local PlayGround"
      ],
      "metadata": {
        "id": "RVxWVuuZZ-6F"
      }
    },
    {
      "cell_type": "code",
      "source": [
        "#Loads KG\n",
        "g = Graph()\n",
        "g.parse(\"./data/playground.ttl\", format=\"ttl\")\n",
        "\n",
        "print(\"Cargado '\" + str(len(g)) + \"' tripletas.\")\n",
        "\n",
        "print(\"Resultados consulta (Mujeres):\")\n",
        "\n",
        "qres = g.query(\n",
        "\"\"\"SELECT ?thing ?name where {\n",
        "  ?thing tto:sex \"female\" .\n",
        "  ?thing dbp:name ?name .\n",
        "}\"\"\")\n",
        "\n",
        "for row in qres:\n",
        "    #Row is a list of matched RDF terms: URIs, literals or blank nodes\n",
        "    print(\"%s es mujer con nombre '%s'\" % (str(row.thing),str(row.name)))\n",
        "\n",
        "#Same but with loading a query from a file\n",
        "print(\"Resultados consulta Mujeres (consulta desde el archivo):\")\n",
        "query_file = \"./data/query.txt\"\n",
        "query = open(query_file, 'r').read()\n",
        "\n",
        "qres = g.query(query)\n",
        "\n",
        "for row in qres:\n",
        "    #Row is a list of matched RDF terms: URIs, literals or blank nodes\n",
        "    print(\"%s es mujer con nombre '%s'\" % (str(row.thing),str(row.name)))"
      ],
      "metadata": {
        "id": "GXNm__EzZ969"
      },
      "execution_count": null,
      "outputs": []
    },
    {
      "cell_type": "markdown",
      "source": [
        "##Consultar el conjunto de datos local Premio Nobel"
      ],
      "metadata": {
        "id": "YwwAw5RyEcbl"
      }
    },
    {
      "cell_type": "code",
      "source": [
        "#Loads KG\n",
        "g = Graph()\n",
        "g.parse(\"./data/nobelprize_kg.nt\", format=\"nt\")\n",
        "\n",
        "print(\"Cargado '\" + str(len(g)) + \"' tripletas.\")\n",
        "\n",
        "#Query with prefixes\n",
        "nobelprize_query = \"\"\"\n",
        "PREFIX nobel: <http://data.nobelprize.org/terms/>\n",
        "PREFIX foaf: <http://xmlns.com/foaf/0.1/>\n",
        "PREFIX rdfs: <http://www.w3.org/2000/01/rdf-schema#>\n",
        "PREFIX rdf: <http://www.w3.org/1999/02/22-rdf-syntax-ns#>\n",
        "SELECT DISTINCT ?name_laur WHERE {\n",
        "?laur rdf:type nobel:Laureate .\n",
        "?laur rdfs:label ?name_laur .\n",
        "?laur foaf:gender \"female\" . }\n",
        "\"\"\"\n",
        "\n",
        "qres = g.query(nobelprize_query)\n",
        "\n",
        "print(\"Mujeres laureadas (mostrando solo 10):\")\n",
        "i=0\n",
        "for row in qres:\n",
        "    #Row is a list of matched RDF terms: URIs, literals or blank nodes\n",
        "    i+=1\n",
        "    print(\"'%s'\" % (str(row.name_laur))) #Same name as in sparql query SELECT variable\n",
        "    if i==10:\n",
        "        break"
      ],
      "metadata": {
        "id": "-f_YWQYdEfz9"
      },
      "execution_count": null,
      "outputs": []
    }
  ]
}
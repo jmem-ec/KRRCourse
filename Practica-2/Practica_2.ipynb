{
  "nbformat": 4,
  "nbformat_minor": 0,
  "metadata": {
    "colab": {
      "provenance": [],
      "authorship_tag": "ABX9TyNQuG5aRlwXBpdqtavPSDNQ",
      "include_colab_link": true
    },
    "kernelspec": {
      "name": "python3",
      "display_name": "Python 3"
    },
    "language_info": {
      "name": "python"
    }
  },
  "cells": [
    {
      "cell_type": "markdown",
      "metadata": {
        "id": "view-in-github",
        "colab_type": "text"
      },
      "source": [
        "<a href=\"https://colab.research.google.com/github/jmem-ec/KRRCourse/blob/main/Practica-2/Practica_2.ipynb\" target=\"_parent\"><img src=\"https://colab.research.google.com/assets/colab-badge.svg\" alt=\"Open In Colab\"/></a>"
      ]
    },
    {
      "cell_type": "markdown",
      "source": [
        "# Módulo KRR - Práctica-2\n",
        "\n",
        "Ejemplo **código Python** para la práctica 2 del módulo Representacion del Conocimiento en la Maestría de Cienca de Datos"
      ],
      "metadata": {
        "id": "9ckjEUyMpXuw"
      }
    },
    {
      "cell_type": "markdown",
      "source": [
        "## Requerimientos/Librerias\n"
      ],
      "metadata": {
        "id": "3q6M6Nr1p9PZ"
      }
    },
    {
      "cell_type": "code",
      "source": [
        "!pip install rdflib"
      ],
      "metadata": {
        "id": "iqa_cUvbqofX"
      },
      "execution_count": null,
      "outputs": []
    },
    {
      "cell_type": "code",
      "execution_count": 3,
      "metadata": {
        "id": "OQhfmX1GpWZd"
      },
      "outputs": [],
      "source": [
        "from rdflib import Graph\n",
        "from rdflib import URIRef, BNode, Literal\n",
        "from rdflib import Namespace\n",
        "from rdflib.namespace import OWL, RDF, RDFS, FOAF, XSD\n",
        "import csv\n",
        "import pandas as pd"
      ]
    },
    {
      "cell_type": "markdown",
      "source": [
        "## Cargar grafo en un formato y grabarlo en otro formato"
      ],
      "metadata": {
        "id": "I3TwNLVjrjcp"
      }
    },
    {
      "cell_type": "code",
      "source": [
        "g = Graph()\n",
        "g.parse(\"./data/beatles.ttl\", format=\"ttl\")\n",
        "\n",
        "print(\"El grafo contiene  '\" + str(len(g)) + \"' tripletas.\")\n",
        "\n",
        "#for s, p, o in g:\n",
        "#    print((s.n3(), p.n3(), o.n3()))\n",
        "\n",
        "print(\"Grabando grafo a 'beatles.rdf'\")\n",
        "g.serialize(destination='beatles.rdf', format='xml')"
      ],
      "metadata": {
        "colab": {
          "base_uri": "https://localhost:8080/"
        },
        "id": "T1LoJM_FrgoH",
        "outputId": "f02fbe41-3134-48c9-8c29-037600f58844"
      },
      "execution_count": 5,
      "outputs": [
        {
          "output_type": "stream",
          "name": "stdout",
          "text": [
            "El grafo contiene  '28' tripletas.\n",
            "Grabando grafo a 'beatles.rdf'\n"
          ]
        },
        {
          "output_type": "execute_result",
          "data": {
            "text/plain": [
              "<Graph identifier=Nf3674ad09a234573b7264deff00beba0 (<class 'rdflib.graph.Graph'>)>"
            ]
          },
          "metadata": {},
          "execution_count": 5
        }
      ]
    },
    {
      "cell_type": "markdown",
      "source": [
        "## Crear un grafo desde cero"
      ],
      "metadata": {
        "id": "RpD8LWN1tYzj"
      }
    },
    {
      "cell_type": "code",
      "source": [
        "#Empty graph\n",
        "g = Graph()\n",
        "\n",
        "#Special namspaces to create\n",
        "uc = Namespace(\"http://www.example.org/university/cuenca/uc#\")\n",
        "dbpo = Namespace(\"https://dbpedia.org/ontology/\")\n",
        "\n",
        "#Prefixes\n",
        "g.bind(\"foaf\", FOAF) #FOAF is given as defaulty namespace\n",
        "g.bind(\"uc\", uc)   #uc is a newly created namespace\n",
        "g.bind(\"dbpo\", dbpo) #dbpo is a newly created namespace\n",
        "\n",
        "#These lines are equivalent:\n",
        "#mauricio = URIRef(\"http://www.example.org/university/cuenca/uc#mauricio\")\n",
        "#uc.mauricio\n",
        "\n",
        "#print(uc.mauricio)\n",
        "\n",
        "bnode = BNode()  # a GUID is generated\n",
        "\n",
        "name = Literal('Mauricio Espinoza Mejia', datatype=XSD.string)  # lang=\"en\" for language tags\n",
        "year = Literal('2024', datatype=XSD.gYear)  # lang=\"en\" for language tags\n",
        "\n",
        "\n",
        "g.add((uc.rc713, RDF.type, uc.Modulo))\n",
        "g.add((uc.mauricio, RDF.type, uc.Profesor))\n",
        "\n",
        "g.add((uc.Profesor, RDFS.subClassOf, FOAF.Person))\n",
        "\n",
        "g.add((uc.mauricio, FOAF.name, name))\n",
        "g.add((uc.mauricio, uc.enseña, uc.rc713))\n",
        "\n",
        "g.add((bnode, RDF.type, RDF.Statement ))\n",
        "g.add((bnode, RDF.subject, uc.mauricio ))\n",
        "g.add((bnode, RDF.predicate, uc.enseña ))\n",
        "g.add((bnode, RDF.object, uc.rc713 ))\n",
        "g.add((bnode, dbpo.year, year ))\n",
        "\n",
        "\n",
        "print(\"Saving graph to 'practica2_ejemplo_rdflib.ttl':\")\n",
        "\n",
        "print(g.serialize(format=\"turtle\").decode(\"utf-8\"))\n",
        "#print(g.serialize(format=\"turtle\")\n",
        "#.decode(\"utf-8\") seems to fail for some (windows) users. Remove if giving problems.\n",
        "\n",
        "g.serialize(destination='./data/practica2_ejemplo_rdflib.ttl', format='ttl')"
      ],
      "metadata": {
        "id": "5ARFgBPXtiqd"
      },
      "execution_count": null,
      "outputs": []
    },
    {
      "cell_type": "markdown",
      "source": [
        "## Cargar un archivo CSV con una biblioteca incorporada"
      ],
      "metadata": {
        "id": "VoMW1nCIwQw3"
      }
    },
    {
      "cell_type": "code",
      "source": [
        "file = \"./data/companias.csv\""
      ],
      "metadata": {
        "id": "WlVeNUNawhBo"
      },
      "execution_count": 11,
      "outputs": []
    },
    {
      "cell_type": "code",
      "source": [
        "with open(file) as csv_file:\n",
        "\n",
        "    csv_reader = csv.reader(csv_file, delimiter=',', quotechar='\"', escapechar=\"\\\\\")\n",
        "\n",
        "    #previous_key=\"\"\n",
        "\n",
        "    for row in csv_reader:\n",
        "        print(row)"
      ],
      "metadata": {
        "id": "TyiG8PHzwhAW"
      },
      "execution_count": null,
      "outputs": []
    },
    {
      "cell_type": "markdown",
      "source": [
        "# Cargar un archivo CSV con Pandas"
      ],
      "metadata": {
        "id": "JQ_exhekxNN-"
      }
    },
    {
      "cell_type": "code",
      "source": [
        "data_frame = pd.read_csv(file, sep=',', quotechar='\"',escapechar=\"\\\\\")\n",
        "\n",
        "for cell in data_frame['Company']:\n",
        "    print(cell)\n",
        "\n",
        "for row in data_frame.itertuples(index=True, name='Pandas'):\n",
        "    print(row)"
      ],
      "metadata": {
        "id": "6P5xoSnMxdYY"
      },
      "execution_count": null,
      "outputs": []
    }
  ]
}

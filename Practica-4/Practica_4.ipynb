{
  "nbformat": 4,
  "nbformat_minor": 0,
  "metadata": {
    "colab": {
      "provenance": [],
      "authorship_tag": "ABX9TyMCHUHVWQNNWk1mMD9baV0s",
      "include_colab_link": true
    },
    "kernelspec": {
      "name": "python3",
      "display_name": "Python 3"
    },
    "language_info": {
      "name": "python"
    }
  },
  "cells": [
    {
      "cell_type": "markdown",
      "metadata": {
        "id": "view-in-github",
        "colab_type": "text"
      },
      "source": [
        "<a href=\"https://colab.research.google.com/github/jmem-ec/KRRCourse/blob/main/Practica-4/Practica_4.ipynb\" target=\"_parent\"><img src=\"https://colab.research.google.com/assets/colab-badge.svg\" alt=\"Open In Colab\"/></a>"
      ]
    },
    {
      "cell_type": "markdown",
      "source": [
        "# Módulo Representación del Conocimiento - Práctica-4\n",
        "\n",
        "Ejemplo **código Python** para la práctica 4 del módulo Representacion del Conocimiento en la Maestría de Cienca de Datos"
      ],
      "metadata": {
        "id": "qoZN7VG8Zan2"
      }
    },
    {
      "cell_type": "markdown",
      "source": [
        "## Requerimientos/Librerias"
      ],
      "metadata": {
        "id": "cRi83xXBZqFt"
      }
    },
    {
      "cell_type": "code",
      "source": [
        "!pip install rdflib"
      ],
      "metadata": {
        "id": "mmR6TXdKZ1Z1"
      },
      "execution_count": null,
      "outputs": []
    },
    {
      "cell_type": "code",
      "source": [
        "!pip install owlrl"
      ],
      "metadata": {
        "id": "3WWKo9-gbDKp"
      },
      "execution_count": null,
      "outputs": []
    },
    {
      "cell_type": "code",
      "execution_count": 4,
      "metadata": {
        "id": "nlIwZr1GZT_X"
      },
      "outputs": [],
      "source": [
        "from rdflib import Graph\n",
        "import owlrl"
      ]
    },
    {
      "cell_type": "markdown",
      "source": [
        "##Razonamiento con semántica RDFS"
      ],
      "metadata": {
        "id": "RVxWVuuZZ-6F"
      }
    },
    {
      "cell_type": "code",
      "source": [
        "g1 = Graph()\n",
        "\n",
        "g1.parse(\"data/practica4-rdfs.ttl\", format=\"ttl\")\n",
        "\n",
        "print(\"Cargadas '\" + str(len(g1)) + \"' tripletas.\")\n",
        "\n",
        "#Performs RDFS reasoning: expangs graph g1\n",
        "owlrl.DeductiveClosure(owlrl.RDFS_Semantics, axiomatic_triples=True, datatype_axioms=False).expand(g1)\n",
        "\n",
        "print(\"Reglas después de la inferencia: '\" + str(len(g1)) + \"' tripletas.\")\n",
        "\n",
        "print(\"Grabando grafo extendido\")\n",
        "g1.serialize(destination='data/practica4-rdfs-extended.ttl', format='ttl')"
      ],
      "metadata": {
        "id": "GXNm__EzZ969"
      },
      "execution_count": null,
      "outputs": []
    }
  ]
}
{
  "nbformat": 4,
  "nbformat_minor": 0,
  "metadata": {
    "colab": {
      "provenance": [],
      "authorship_tag": "ABX9TyOPmZ2Vs/5DlbO5oOT4v0ww",
      "include_colab_link": true
    },
    "kernelspec": {
      "name": "python3",
      "display_name": "Python 3"
    },
    "language_info": {
      "name": "python"
    }
  },
  "cells": [
    {
      "cell_type": "markdown",
      "metadata": {
        "id": "view-in-github",
        "colab_type": "text"
      },
      "source": [
        "<a href=\"https://colab.research.google.com/github/jmem-ec/KRRCourse/blob/main/Practica-8/Practica_8.ipynb\" target=\"_parent\"><img src=\"https://colab.research.google.com/assets/colab-badge.svg\" alt=\"Open In Colab\"/></a>"
      ]
    },
    {
      "cell_type": "markdown",
      "source": [
        "# Módulo Representación del Conocimiento - Práctica-8\n",
        "\n",
        "Ejemplo **código Python** para la práctica 8 del módulo Representacion del Conocimiento en la Maestría de Ciencia de Datos"
      ],
      "metadata": {
        "id": "hFWA4E4CKhIj"
      }
    },
    {
      "cell_type": "markdown",
      "source": [
        "## Importación Codigo Python"
      ],
      "metadata": {
        "id": "zDHzziSkKrk1"
      }
    },
    {
      "cell_type": "code",
      "execution_count": 15,
      "metadata": {
        "id": "mQcCSJ4EW5er"
      },
      "outputs": [],
      "source": [
        "import sys\n",
        "import os\n",
        "\n",
        "path1 = '/content/lookup.py'\n",
        "sys.path.append(os.path.abspath(path1))\n",
        "\n",
        "path2 = '/content/endpoints.py'\n",
        "sys.path.append(os.path.abspath(path2))"
      ]
    },
    {
      "cell_type": "markdown",
      "source": [
        "##Uso de las librerias (desde el codigo .py)"
      ],
      "metadata": {
        "id": "1xRZsnnkK2K6"
      }
    },
    {
      "cell_type": "code",
      "source": [
        "!pip install SPARQLWrapper\n",
        "\n",
        "from lookup import DBpediaLookup, WikidataAPI, GoogleKGLookup\n",
        "from endpoints import DBpediaEndpoint, WikidataEndpoint"
      ],
      "metadata": {
        "id": "O5vzk3r1ZN1l"
      },
      "execution_count": null,
      "outputs": []
    },
    {
      "cell_type": "markdown",
      "source": [
        "##Servicios de búsqueda"
      ],
      "metadata": {
        "id": "rKc8047FMJ0y"
      }
    },
    {
      "cell_type": "markdown",
      "source": [
        "### desde Google KG"
      ],
      "metadata": {
        "id": "A_74RWGaSV7Z"
      }
    },
    {
      "cell_type": "code",
      "source": [
        "query=\"Cuenca\"\n",
        "#Max entities to be returned\n",
        "limit=5\n",
        "\n",
        "print(\"Entidades desde Google KG para el término de búsqueda: \" + query)\n",
        "kg = GoogleKGLookup()\n",
        "entities = kg.getKGEntities(query, limit)\n",
        "for ent in  entities:\n",
        "    print(ent.getId, ent)"
      ],
      "metadata": {
        "id": "z2q71PSVbUT_"
      },
      "execution_count": null,
      "outputs": []
    },
    {
      "cell_type": "markdown",
      "source": [
        "###desde DBpedia"
      ],
      "metadata": {
        "id": "jwvcgMk8MT9J"
      }
    },
    {
      "cell_type": "code",
      "source": [
        "dbpedia = DBpediaLookup()\n",
        "entities = dbpedia.getKGEntities(query, limit)\n",
        "print(\"Entidades desde DBPedia para el término de búsqueda: \" + query)\n",
        "for ent in  entities:\n",
        "    print(ent.getId(), ent)"
      ],
      "metadata": {
        "id": "kgrcn7rzbxwz"
      },
      "execution_count": null,
      "outputs": []
    },
    {
      "cell_type": "markdown",
      "source": [
        "###desde Wikidata"
      ],
      "metadata": {
        "id": "eLPhFde3MZe6"
      }
    },
    {
      "cell_type": "code",
      "source": [
        "kg = WikidataAPI()\n",
        "entities = kg.getKGEntities(query, limit)\n",
        "print(\"Entidades desde Wikidata para el término de búsqueda: \" + query)\n",
        "for ent in  entities:\n",
        "    print(ent.getId, ent)"
      ],
      "metadata": {
        "id": "GsWxHBAwPTvq"
      },
      "execution_count": null,
      "outputs": []
    },
    {
      "cell_type": "markdown",
      "source": [
        "##SPARQL Endpoints"
      ],
      "metadata": {
        "id": "rs0fek7wR4hh"
      }
    },
    {
      "cell_type": "code",
      "source": [
        "print(\"DBpedia\")\n",
        "ent=\"http://dbpedia.org/resource/Ecuador\"\n",
        "ep = DBpediaEndpoint()\n",
        "types = ep.getTypesForEntity(ent)\n",
        "print(\"Found \" + str(len(types)) + \" types.\")\n",
        "for type in types:\n",
        "    print(\"\\t\", type, ep.getEnglishLabelsForEntity(type))"
      ],
      "metadata": {
        "colab": {
          "base_uri": "https://localhost:8080/"
        },
        "id": "CeaVjXkXR6No",
        "outputId": "2edc8c3c-5f5e-4b99-ea6d-f8091780fbcb"
      },
      "execution_count": 20,
      "outputs": [
        {
          "output_type": "stream",
          "name": "stdout",
          "text": [
            "DBpedia\n",
            "Found 8 types.\n",
            "\t http://dbpedia.org/ontology/Country {'country'}\n",
            "\t http://dbpedia.org/ontology/Person {'person'}\n",
            "\t http://dbpedia.org/ontology/Place {'place'}\n",
            "\t http://schema.org/Place set()\n",
            "\t http://dbpedia.org/ontology/Location set()\n",
            "\t http://dbpedia.org/ontology/PopulatedPlace {'populated place'}\n",
            "\t http://schema.org/Country set()\n",
            "\t http://www.wikidata.org/entity/Q6256 set()\n"
          ]
        }
      ]
    },
    {
      "cell_type": "code",
      "source": [
        "print(\"Wikidata\")\n",
        "#London\n",
        "ent = \"http://www.wikidata.org/entity/Q84\"\n",
        "ep = WikidataEndpoint()\n",
        "types = ep.getTypesForEntity(ent)\n",
        "print(\"Found \" + str(len(types)) + \" types.\")\n",
        "for type in types:\n",
        "    print(\"\\t\", type, ep.getEnglishLabelsForEntity(type))"
      ],
      "metadata": {
        "id": "r6TbKJt-UXQU"
      },
      "execution_count": null,
      "outputs": []
    }
  ]
}
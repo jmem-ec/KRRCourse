{
  "nbformat": 4,
  "nbformat_minor": 0,
  "metadata": {
    "colab": {
      "provenance": [],
      "authorship_tag": "ABX9TyMryGnnJC4EPvrgXd8nzvsT",
      "include_colab_link": true
    },
    "kernelspec": {
      "name": "python3",
      "display_name": "Python 3"
    },
    "language_info": {
      "name": "python"
    }
  },
  "cells": [
    {
      "cell_type": "markdown",
      "metadata": {
        "id": "view-in-github",
        "colab_type": "text"
      },
      "source": [
        "<a href=\"https://colab.research.google.com/github/jmem-ec/KRRCourse/blob/main/Practica-3(2)/Practica_3(2).ipynb\" target=\"_parent\"><img src=\"https://colab.research.google.com/assets/colab-badge.svg\" alt=\"Open In Colab\"/></a>"
      ]
    },
    {
      "cell_type": "markdown",
      "source": [
        "# Módulo Representación del Conocimiento - Práctica-3(2)\n",
        "\n",
        "Ejemplo **código Python** para la práctica 3(2) del módulo Representacion del Conocimiento en la Maestría de Ciencia de Datos"
      ],
      "metadata": {
        "id": "qoZN7VG8Zan2"
      }
    },
    {
      "cell_type": "markdown",
      "source": [
        "## Requerimientos/Librerias"
      ],
      "metadata": {
        "id": "cRi83xXBZqFt"
      }
    },
    {
      "cell_type": "code",
      "source": [
        "!pip install rdflib"
      ],
      "metadata": {
        "id": "mmR6TXdKZ1Z1"
      },
      "execution_count": null,
      "outputs": []
    },
    {
      "cell_type": "code",
      "source": [
        "!pip install sparqlwrapper"
      ],
      "metadata": {
        "id": "3WWKo9-gbDKp"
      },
      "execution_count": null,
      "outputs": []
    },
    {
      "cell_type": "code",
      "execution_count": 3,
      "metadata": {
        "id": "nlIwZr1GZT_X"
      },
      "outputs": [],
      "source": [
        "from rdflib import Graph\n",
        "from SPARQLWrapper import SPARQLWrapper, JSON"
      ]
    },
    {
      "cell_type": "markdown",
      "source": [
        "##Consulta de un conjunto de datos remoto a través del SPARQL endpoint"
      ],
      "metadata": {
        "id": "RVxWVuuZZ-6F"
      }
    },
    {
      "cell_type": "code",
      "source": [
        "#Remote service\n",
        "endpoint_url = \"http://dbpedia.org/sparql\"\n",
        "sparqlw = SPARQLWrapper(endpoint_url)\n",
        "sparqlw.setReturnFormat(JSON)\n",
        "\n",
        "\n",
        "query = \"\"\"\n",
        "PREFIX foaf: <http://xmlns.com/foaf/0.1/>\n",
        "PREFIX dbo: <http://dbpedia.org/ontology/>\n",
        "SELECT DISTINCT ?x WHERE {\n",
        "?jd foaf:name \\\"Johnny Depp\\\"@en .\n",
        "?m dbo:starring ?jd .\n",
        "?m dbo:starring ?other .\n",
        "?other foaf:name ?x .\n",
        "FILTER (STR(?x)!=\\\"Johnny Depp\\\")\n",
        "}\n",
        "ORDER BY ?x\n",
        "LIMIT 10\n",
        "\"\"\"\n",
        "\n",
        "sparqlw.setQuery(query)\n",
        "\n",
        "results = sparqlw.query().convert()\n",
        "\n",
        "#Prints JSON file\n",
        "#print(results)\n",
        "\n",
        "print(\"Estrellas coprotagonistas de Johnny Depp (limitado a 10):\")\n",
        "i=0\n",
        "for result in results[\"results\"][\"bindings\"]:\n",
        "    i+=1\n",
        "    #Prints individual results\n",
        "    print(result[\"x\"][\"value\"])"
      ],
      "metadata": {
        "id": "GXNm__EzZ969"
      },
      "execution_count": null,
      "outputs": []
    }
  ]
}